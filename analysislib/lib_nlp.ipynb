{
 "cells": [
  {
   "cell_type": "code",
   "execution_count": 1,
   "metadata": {
    "collapsed": true
   },
   "outputs": [],
   "source": [
    "import re\n",
    "import pandas as pd\n",
    "import preprocess.pre as pre\n",
    "df = pd.read_csv('../preprocess/nlp-process.csv')\n",
    "df.drop(['PostTypeId', 'ParentId', 'OwnerUserId', 'OwnerDisplayName','LastEditorUserId', 'LastEditorDisplayName', 'AcceptedAnswerId', 'Score',\n",
    "       'ViewCount', 'AnswerCount', 'CommentCount', 'FavoriteCount'],axis=1,inplace=True)\n",
    "df['nltk'] = False\n",
    "df['spacy'] = False\n",
    "df['gensim'] = False\n",
    "df['stanford-nlp'] = False\n",
    "df['scikit-learn'] = False\n",
    "\n",
    "def isnltk(str):\n",
    "    a = re.search(r'\\bnltk\\b', str)\n",
    "    if a is None:\n",
    "        return False\n",
    "    else:\n",
    "        return True\n",
    "def isspacy(str):\n",
    "    a = re.search(r'\\bspacy\\b', str)\n",
    "    if a is None:\n",
    "        return False\n",
    "    else:\n",
    "        return True\n",
    "def isgensim(str):\n",
    "    a = re.search(r'\\bgensim\\b', str)\n",
    "    if a is None:\n",
    "        return False\n",
    "    else:\n",
    "        return True\n",
    "def isstanford_nlp(str):\n",
    "    a = re.search(r'\\b(stanford-nlp|stanford nlp)\\b', str)\n",
    "    if a is None:\n",
    "        return False\n",
    "    else:\n",
    "        return True\n",
    "def issklearn(str):\n",
    "    a = re.search(r'\\b(scikit-learn|scikit learn|sklearn)\\b', str)\n",
    "    if a is None:\n",
    "        return False\n",
    "    else:\n",
    "        return True"
   ]
  },
  {
   "cell_type": "code",
   "execution_count": 2,
   "outputs": [],
   "source": [
    "for index, row in df.iterrows():\n",
    "    title = str(row['Title'])\n",
    "    tags = str(row['Tags'])\n",
    "    body = str(row['Body'])\n",
    "\n",
    "    df.at[index, 'nltk'] = isnltk(title)|isnltk(body)|isnltk(tags)\n",
    "    df.at[index, 'spacy'] = isspacy(title)|isspacy(body)|isspacy(tags)\n",
    "    df.at[index, 'gensim'] = isgensim(title)|isgensim(body)|isgensim(tags)\n",
    "    df.at[index, 'stanford-nlp'] = isstanford_nlp(title)|isstanford_nlp(body)|isstanford_nlp(tags)\n",
    "    df.at[index, 'scikit-learn'] = issklearn(title)|issklearn(body)|issklearn(tags)\n",
    "\n",
    "nltk = df[df['nltk']==True]\n",
    "spacy = df[df['spacy']==True]\n",
    "gensim = df[df['gensim']==True]\n",
    "stanfordnlp = df[df['stanford-nlp']==True]\n",
    "sklearn = df[df['scikit-learn']==True]\n",
    "\n",
    "# nltk.to_csv('../analysislib/nlp/nltk.csv')\n",
    "# spacy.to_csv('../analysislib/nlp/spacy.csv')\n",
    "# gensim.to_csv('../analysislib/nlp/gensim.csv')\n",
    "# stanfordnlp.to_csv('../analysislib/nlp/stanfordnlp.csv')\n",
    "# sklearn.to_csv('../analysislib/nlp/sklearn.csv')\n",
    "\n"
   ],
   "metadata": {
    "collapsed": false,
    "pycharm": {
     "name": "#%%\n"
    }
   }
  },
  {
   "cell_type": "code",
   "execution_count": 20,
   "outputs": [
    {
     "data": {
      "text/plain": "              Unnamed: 0    Id  DeletionDate  Body  LastEditDate  \\\nCreationDate                                                       \n2012                1067  1067             0  1067           672   \n2013                1484  1484             0  1484           861   \n2014                2106  2106             0  2106          1141   \n2015                2832  2832             0  2831          1608   \n2016                3367  3367             0  3367          1751   \n2017                4338  4338             0  4336          2139   \n2018                4362  4362             0  4360          2330   \n2019                4816  4816             0  4812          2425   \n2020                5045  5045             0  5039          2126   \n\n              LastActivityDate  Title  Tags  ClosedDate  CommunityOwnedDate  \\\nCreationDate                                                                  \n2012                      1067   1067  1067          79                   1   \n2013                      1484   1484  1484         102                   1   \n2014                      2106   2106  2106          96                   0   \n2015                      2832   2832  2832         100                   0   \n2016                      3367   3367  3367         137                   0   \n2017                      4338   4338  4338         144                   0   \n2018                      4362   4362  4362         142                   0   \n2019                      4816   4816  4816          98                   0   \n2020                      5045   5045  5045         113                   0   \n\n              ContentLicense  nltk  spacy  gensim  stanford-nlp  scikit-learn  \nCreationDate                                                                   \n2012                    1067  1067   1067    1067          1067          1067  \n2013                    1484  1484   1484    1484          1484          1484  \n2014                    2106  2106   2106    2106          2106          2106  \n2015                    2832  2832   2832    2832          2832          2832  \n2016                    3367  3367   3367    3367          3367          3367  \n2017                    4338  4338   4338    4338          4338          4338  \n2018                    4362  4362   4362    4362          4362          4362  \n2019                    4816  4816   4816    4816          4816          4816  \n2020                    5045  5045   5045    5045          5045          5045  ",
      "text/html": "<div>\n<style scoped>\n    .dataframe tbody tr th:only-of-type {\n        vertical-align: middle;\n    }\n\n    .dataframe tbody tr th {\n        vertical-align: top;\n    }\n\n    .dataframe thead th {\n        text-align: right;\n    }\n</style>\n<table border=\"1\" class=\"dataframe\">\n  <thead>\n    <tr style=\"text-align: right;\">\n      <th></th>\n      <th>Unnamed: 0</th>\n      <th>Id</th>\n      <th>DeletionDate</th>\n      <th>Body</th>\n      <th>LastEditDate</th>\n      <th>LastActivityDate</th>\n      <th>Title</th>\n      <th>Tags</th>\n      <th>ClosedDate</th>\n      <th>CommunityOwnedDate</th>\n      <th>ContentLicense</th>\n      <th>nltk</th>\n      <th>spacy</th>\n      <th>gensim</th>\n      <th>stanford-nlp</th>\n      <th>scikit-learn</th>\n    </tr>\n    <tr>\n      <th>CreationDate</th>\n      <th></th>\n      <th></th>\n      <th></th>\n      <th></th>\n      <th></th>\n      <th></th>\n      <th></th>\n      <th></th>\n      <th></th>\n      <th></th>\n      <th></th>\n      <th></th>\n      <th></th>\n      <th></th>\n      <th></th>\n      <th></th>\n    </tr>\n  </thead>\n  <tbody>\n    <tr>\n      <th>2012</th>\n      <td>1067</td>\n      <td>1067</td>\n      <td>0</td>\n      <td>1067</td>\n      <td>672</td>\n      <td>1067</td>\n      <td>1067</td>\n      <td>1067</td>\n      <td>79</td>\n      <td>1</td>\n      <td>1067</td>\n      <td>1067</td>\n      <td>1067</td>\n      <td>1067</td>\n      <td>1067</td>\n      <td>1067</td>\n    </tr>\n    <tr>\n      <th>2013</th>\n      <td>1484</td>\n      <td>1484</td>\n      <td>0</td>\n      <td>1484</td>\n      <td>861</td>\n      <td>1484</td>\n      <td>1484</td>\n      <td>1484</td>\n      <td>102</td>\n      <td>1</td>\n      <td>1484</td>\n      <td>1484</td>\n      <td>1484</td>\n      <td>1484</td>\n      <td>1484</td>\n      <td>1484</td>\n    </tr>\n    <tr>\n      <th>2014</th>\n      <td>2106</td>\n      <td>2106</td>\n      <td>0</td>\n      <td>2106</td>\n      <td>1141</td>\n      <td>2106</td>\n      <td>2106</td>\n      <td>2106</td>\n      <td>96</td>\n      <td>0</td>\n      <td>2106</td>\n      <td>2106</td>\n      <td>2106</td>\n      <td>2106</td>\n      <td>2106</td>\n      <td>2106</td>\n    </tr>\n    <tr>\n      <th>2015</th>\n      <td>2832</td>\n      <td>2832</td>\n      <td>0</td>\n      <td>2831</td>\n      <td>1608</td>\n      <td>2832</td>\n      <td>2832</td>\n      <td>2832</td>\n      <td>100</td>\n      <td>0</td>\n      <td>2832</td>\n      <td>2832</td>\n      <td>2832</td>\n      <td>2832</td>\n      <td>2832</td>\n      <td>2832</td>\n    </tr>\n    <tr>\n      <th>2016</th>\n      <td>3367</td>\n      <td>3367</td>\n      <td>0</td>\n      <td>3367</td>\n      <td>1751</td>\n      <td>3367</td>\n      <td>3367</td>\n      <td>3367</td>\n      <td>137</td>\n      <td>0</td>\n      <td>3367</td>\n      <td>3367</td>\n      <td>3367</td>\n      <td>3367</td>\n      <td>3367</td>\n      <td>3367</td>\n    </tr>\n    <tr>\n      <th>2017</th>\n      <td>4338</td>\n      <td>4338</td>\n      <td>0</td>\n      <td>4336</td>\n      <td>2139</td>\n      <td>4338</td>\n      <td>4338</td>\n      <td>4338</td>\n      <td>144</td>\n      <td>0</td>\n      <td>4338</td>\n      <td>4338</td>\n      <td>4338</td>\n      <td>4338</td>\n      <td>4338</td>\n      <td>4338</td>\n    </tr>\n    <tr>\n      <th>2018</th>\n      <td>4362</td>\n      <td>4362</td>\n      <td>0</td>\n      <td>4360</td>\n      <td>2330</td>\n      <td>4362</td>\n      <td>4362</td>\n      <td>4362</td>\n      <td>142</td>\n      <td>0</td>\n      <td>4362</td>\n      <td>4362</td>\n      <td>4362</td>\n      <td>4362</td>\n      <td>4362</td>\n      <td>4362</td>\n    </tr>\n    <tr>\n      <th>2019</th>\n      <td>4816</td>\n      <td>4816</td>\n      <td>0</td>\n      <td>4812</td>\n      <td>2425</td>\n      <td>4816</td>\n      <td>4816</td>\n      <td>4816</td>\n      <td>98</td>\n      <td>0</td>\n      <td>4816</td>\n      <td>4816</td>\n      <td>4816</td>\n      <td>4816</td>\n      <td>4816</td>\n      <td>4816</td>\n    </tr>\n    <tr>\n      <th>2020</th>\n      <td>5045</td>\n      <td>5045</td>\n      <td>0</td>\n      <td>5039</td>\n      <td>2126</td>\n      <td>5045</td>\n      <td>5045</td>\n      <td>5045</td>\n      <td>113</td>\n      <td>0</td>\n      <td>5045</td>\n      <td>5045</td>\n      <td>5045</td>\n      <td>5045</td>\n      <td>5045</td>\n      <td>5045</td>\n    </tr>\n  </tbody>\n</table>\n</div>"
     },
     "execution_count": 20,
     "metadata": {},
     "output_type": "execute_result"
    }
   ],
   "source": [
    "df['CreationDate'] = pd.to_datetime(df['CreationDate'])\n",
    "df = df.set_index('CreationDate')\n",
    "df = df.resample('Y').count().to_period('Y')\n",
    "df\n"
   ],
   "metadata": {
    "collapsed": false,
    "pycharm": {
     "name": "#%%\n"
    }
   }
  },
  {
   "cell_type": "code",
   "execution_count": 24,
   "outputs": [
    {
     "name": "stderr",
     "output_type": "stream",
     "text": [
      "<ipython-input-24-df146b6cc97e>:1: SettingWithCopyWarning: \n",
      "A value is trying to be set on a copy of a slice from a DataFrame.\n",
      "Try using .loc[row_indexer,col_indexer] = value instead\n",
      "\n",
      "See the caveats in the documentation: https://pandas.pydata.org/pandas-docs/stable/user_guide/indexing.html#returning-a-view-versus-a-copy\n",
      "  nltk['CreationDate'] = pd.to_datetime(nltk['CreationDate'])\n"
     ]
    },
    {
     "data": {
      "text/plain": "              Unnamed: 0   Id  DeletionDate  Body  LastEditDate  \\\nCreationDate                                                      \n2012                 254  254             0   254           161   \n2013                 439  439             0   439           249   \n2014                 588  588             0   588           325   \n2015                 743  743             0   742           467   \n2016                 915  915             0   915           504   \n2017                 960  960             0   960           516   \n2018                 920  920             0   920           527   \n2019                 769  769             0   767           395   \n2020                 707  707             0   704           343   \n\n              LastActivityDate  Title  Tags  ClosedDate  CommunityOwnedDate  \\\nCreationDate                                                                  \n2012                       254    254   254          15                   0   \n2013                       439    439   439          29                   0   \n2014                       588    588   588          33                   0   \n2015                       743    743   743          28                   0   \n2016                       915    915   915          69                   0   \n2017                       960    960   960          63                   0   \n2018                       920    920   920          55                   0   \n2019                       769    769   769          28                   0   \n2020                       707    707   707          24                   0   \n\n              ContentLicense  nltk  spacy  gensim  stanford-nlp  scikit-learn  \nCreationDate                                                                   \n2012                     254   254    254     254           254           254  \n2013                     439   439    439     439           439           439  \n2014                     588   588    588     588           588           588  \n2015                     743   743    743     743           743           743  \n2016                     915   915    915     915           915           915  \n2017                     960   960    960     960           960           960  \n2018                     920   920    920     920           920           920  \n2019                     769   769    769     769           769           769  \n2020                     707   707    707     707           707           707  ",
      "text/html": "<div>\n<style scoped>\n    .dataframe tbody tr th:only-of-type {\n        vertical-align: middle;\n    }\n\n    .dataframe tbody tr th {\n        vertical-align: top;\n    }\n\n    .dataframe thead th {\n        text-align: right;\n    }\n</style>\n<table border=\"1\" class=\"dataframe\">\n  <thead>\n    <tr style=\"text-align: right;\">\n      <th></th>\n      <th>Unnamed: 0</th>\n      <th>Id</th>\n      <th>DeletionDate</th>\n      <th>Body</th>\n      <th>LastEditDate</th>\n      <th>LastActivityDate</th>\n      <th>Title</th>\n      <th>Tags</th>\n      <th>ClosedDate</th>\n      <th>CommunityOwnedDate</th>\n      <th>ContentLicense</th>\n      <th>nltk</th>\n      <th>spacy</th>\n      <th>gensim</th>\n      <th>stanford-nlp</th>\n      <th>scikit-learn</th>\n    </tr>\n    <tr>\n      <th>CreationDate</th>\n      <th></th>\n      <th></th>\n      <th></th>\n      <th></th>\n      <th></th>\n      <th></th>\n      <th></th>\n      <th></th>\n      <th></th>\n      <th></th>\n      <th></th>\n      <th></th>\n      <th></th>\n      <th></th>\n      <th></th>\n      <th></th>\n    </tr>\n  </thead>\n  <tbody>\n    <tr>\n      <th>2012</th>\n      <td>254</td>\n      <td>254</td>\n      <td>0</td>\n      <td>254</td>\n      <td>161</td>\n      <td>254</td>\n      <td>254</td>\n      <td>254</td>\n      <td>15</td>\n      <td>0</td>\n      <td>254</td>\n      <td>254</td>\n      <td>254</td>\n      <td>254</td>\n      <td>254</td>\n      <td>254</td>\n    </tr>\n    <tr>\n      <th>2013</th>\n      <td>439</td>\n      <td>439</td>\n      <td>0</td>\n      <td>439</td>\n      <td>249</td>\n      <td>439</td>\n      <td>439</td>\n      <td>439</td>\n      <td>29</td>\n      <td>0</td>\n      <td>439</td>\n      <td>439</td>\n      <td>439</td>\n      <td>439</td>\n      <td>439</td>\n      <td>439</td>\n    </tr>\n    <tr>\n      <th>2014</th>\n      <td>588</td>\n      <td>588</td>\n      <td>0</td>\n      <td>588</td>\n      <td>325</td>\n      <td>588</td>\n      <td>588</td>\n      <td>588</td>\n      <td>33</td>\n      <td>0</td>\n      <td>588</td>\n      <td>588</td>\n      <td>588</td>\n      <td>588</td>\n      <td>588</td>\n      <td>588</td>\n    </tr>\n    <tr>\n      <th>2015</th>\n      <td>743</td>\n      <td>743</td>\n      <td>0</td>\n      <td>742</td>\n      <td>467</td>\n      <td>743</td>\n      <td>743</td>\n      <td>743</td>\n      <td>28</td>\n      <td>0</td>\n      <td>743</td>\n      <td>743</td>\n      <td>743</td>\n      <td>743</td>\n      <td>743</td>\n      <td>743</td>\n    </tr>\n    <tr>\n      <th>2016</th>\n      <td>915</td>\n      <td>915</td>\n      <td>0</td>\n      <td>915</td>\n      <td>504</td>\n      <td>915</td>\n      <td>915</td>\n      <td>915</td>\n      <td>69</td>\n      <td>0</td>\n      <td>915</td>\n      <td>915</td>\n      <td>915</td>\n      <td>915</td>\n      <td>915</td>\n      <td>915</td>\n    </tr>\n    <tr>\n      <th>2017</th>\n      <td>960</td>\n      <td>960</td>\n      <td>0</td>\n      <td>960</td>\n      <td>516</td>\n      <td>960</td>\n      <td>960</td>\n      <td>960</td>\n      <td>63</td>\n      <td>0</td>\n      <td>960</td>\n      <td>960</td>\n      <td>960</td>\n      <td>960</td>\n      <td>960</td>\n      <td>960</td>\n    </tr>\n    <tr>\n      <th>2018</th>\n      <td>920</td>\n      <td>920</td>\n      <td>0</td>\n      <td>920</td>\n      <td>527</td>\n      <td>920</td>\n      <td>920</td>\n      <td>920</td>\n      <td>55</td>\n      <td>0</td>\n      <td>920</td>\n      <td>920</td>\n      <td>920</td>\n      <td>920</td>\n      <td>920</td>\n      <td>920</td>\n    </tr>\n    <tr>\n      <th>2019</th>\n      <td>769</td>\n      <td>769</td>\n      <td>0</td>\n      <td>767</td>\n      <td>395</td>\n      <td>769</td>\n      <td>769</td>\n      <td>769</td>\n      <td>28</td>\n      <td>0</td>\n      <td>769</td>\n      <td>769</td>\n      <td>769</td>\n      <td>769</td>\n      <td>769</td>\n      <td>769</td>\n    </tr>\n    <tr>\n      <th>2020</th>\n      <td>707</td>\n      <td>707</td>\n      <td>0</td>\n      <td>704</td>\n      <td>343</td>\n      <td>707</td>\n      <td>707</td>\n      <td>707</td>\n      <td>24</td>\n      <td>0</td>\n      <td>707</td>\n      <td>707</td>\n      <td>707</td>\n      <td>707</td>\n      <td>707</td>\n      <td>707</td>\n    </tr>\n  </tbody>\n</table>\n</div>"
     },
     "execution_count": 24,
     "metadata": {},
     "output_type": "execute_result"
    }
   ],
   "source": [
    "nltk['CreationDate'] = pd.to_datetime(nltk['CreationDate'])\n",
    "nltk = nltk.set_index('CreationDate')\n",
    "nltk = nltk.resample('Y').count().to_period('Y')\n",
    "nltk\n"
   ],
   "metadata": {
    "collapsed": false,
    "pycharm": {
     "name": "#%%\n"
    }
   }
  },
  {
   "cell_type": "code",
   "execution_count": 25,
   "outputs": [
    {
     "name": "stderr",
     "output_type": "stream",
     "text": [
      "<ipython-input-25-58ecc7fab468>:1: SettingWithCopyWarning: \n",
      "A value is trying to be set on a copy of a slice from a DataFrame.\n",
      "Try using .loc[row_indexer,col_indexer] = value instead\n",
      "\n",
      "See the caveats in the documentation: https://pandas.pydata.org/pandas-docs/stable/user_guide/indexing.html#returning-a-view-versus-a-copy\n",
      "  spacy['CreationDate'] = pd.to_datetime(spacy['CreationDate'])\n"
     ]
    },
    {
     "data": {
      "text/plain": "              Unnamed: 0   Id  DeletionDate  Body  LastEditDate  \\\nCreationDate                                                      \n2015                   3    3             0     3             1   \n2016                  73   73             0    73            43   \n2017                 251  251             0   251           114   \n2018                 496  496             0   496           234   \n2019                 779  779             0   778           355   \n2020                 718  718             0   716           280   \n\n              LastActivityDate  Title  Tags  ClosedDate  CommunityOwnedDate  \\\nCreationDate                                                                  \n2015                         3      3     3           0                   0   \n2016                        73     73    73           1                   0   \n2017                       251    251   251           3                   0   \n2018                       496    496   496          10                   0   \n2019                       779    779   779          12                   0   \n2020                       718    718   718          10                   0   \n\n              ContentLicense  nltk  spacy  gensim  stanford-nlp  scikit-learn  \nCreationDate                                                                   \n2015                       3     3      3       3             3             3  \n2016                      73    73     73      73            73            73  \n2017                     251   251    251     251           251           251  \n2018                     496   496    496     496           496           496  \n2019                     779   779    779     779           779           779  \n2020                     718   718    718     718           718           718  ",
      "text/html": "<div>\n<style scoped>\n    .dataframe tbody tr th:only-of-type {\n        vertical-align: middle;\n    }\n\n    .dataframe tbody tr th {\n        vertical-align: top;\n    }\n\n    .dataframe thead th {\n        text-align: right;\n    }\n</style>\n<table border=\"1\" class=\"dataframe\">\n  <thead>\n    <tr style=\"text-align: right;\">\n      <th></th>\n      <th>Unnamed: 0</th>\n      <th>Id</th>\n      <th>DeletionDate</th>\n      <th>Body</th>\n      <th>LastEditDate</th>\n      <th>LastActivityDate</th>\n      <th>Title</th>\n      <th>Tags</th>\n      <th>ClosedDate</th>\n      <th>CommunityOwnedDate</th>\n      <th>ContentLicense</th>\n      <th>nltk</th>\n      <th>spacy</th>\n      <th>gensim</th>\n      <th>stanford-nlp</th>\n      <th>scikit-learn</th>\n    </tr>\n    <tr>\n      <th>CreationDate</th>\n      <th></th>\n      <th></th>\n      <th></th>\n      <th></th>\n      <th></th>\n      <th></th>\n      <th></th>\n      <th></th>\n      <th></th>\n      <th></th>\n      <th></th>\n      <th></th>\n      <th></th>\n      <th></th>\n      <th></th>\n      <th></th>\n    </tr>\n  </thead>\n  <tbody>\n    <tr>\n      <th>2015</th>\n      <td>3</td>\n      <td>3</td>\n      <td>0</td>\n      <td>3</td>\n      <td>1</td>\n      <td>3</td>\n      <td>3</td>\n      <td>3</td>\n      <td>0</td>\n      <td>0</td>\n      <td>3</td>\n      <td>3</td>\n      <td>3</td>\n      <td>3</td>\n      <td>3</td>\n      <td>3</td>\n    </tr>\n    <tr>\n      <th>2016</th>\n      <td>73</td>\n      <td>73</td>\n      <td>0</td>\n      <td>73</td>\n      <td>43</td>\n      <td>73</td>\n      <td>73</td>\n      <td>73</td>\n      <td>1</td>\n      <td>0</td>\n      <td>73</td>\n      <td>73</td>\n      <td>73</td>\n      <td>73</td>\n      <td>73</td>\n      <td>73</td>\n    </tr>\n    <tr>\n      <th>2017</th>\n      <td>251</td>\n      <td>251</td>\n      <td>0</td>\n      <td>251</td>\n      <td>114</td>\n      <td>251</td>\n      <td>251</td>\n      <td>251</td>\n      <td>3</td>\n      <td>0</td>\n      <td>251</td>\n      <td>251</td>\n      <td>251</td>\n      <td>251</td>\n      <td>251</td>\n      <td>251</td>\n    </tr>\n    <tr>\n      <th>2018</th>\n      <td>496</td>\n      <td>496</td>\n      <td>0</td>\n      <td>496</td>\n      <td>234</td>\n      <td>496</td>\n      <td>496</td>\n      <td>496</td>\n      <td>10</td>\n      <td>0</td>\n      <td>496</td>\n      <td>496</td>\n      <td>496</td>\n      <td>496</td>\n      <td>496</td>\n      <td>496</td>\n    </tr>\n    <tr>\n      <th>2019</th>\n      <td>779</td>\n      <td>779</td>\n      <td>0</td>\n      <td>778</td>\n      <td>355</td>\n      <td>779</td>\n      <td>779</td>\n      <td>779</td>\n      <td>12</td>\n      <td>0</td>\n      <td>779</td>\n      <td>779</td>\n      <td>779</td>\n      <td>779</td>\n      <td>779</td>\n      <td>779</td>\n    </tr>\n    <tr>\n      <th>2020</th>\n      <td>718</td>\n      <td>718</td>\n      <td>0</td>\n      <td>716</td>\n      <td>280</td>\n      <td>718</td>\n      <td>718</td>\n      <td>718</td>\n      <td>10</td>\n      <td>0</td>\n      <td>718</td>\n      <td>718</td>\n      <td>718</td>\n      <td>718</td>\n      <td>718</td>\n      <td>718</td>\n    </tr>\n  </tbody>\n</table>\n</div>"
     },
     "execution_count": 25,
     "metadata": {},
     "output_type": "execute_result"
    }
   ],
   "source": [
    "spacy['CreationDate'] = pd.to_datetime(spacy['CreationDate'])\n",
    "spacy = spacy.set_index('CreationDate')\n",
    "spacy = spacy.resample('Y').count().to_period('Y')\n",
    "spacy\n"
   ],
   "metadata": {
    "collapsed": false,
    "pycharm": {
     "name": "#%%\n"
    }
   }
  },
  {
   "cell_type": "code",
   "execution_count": 27,
   "outputs": [
    {
     "ename": "KeyError",
     "evalue": "'CreationDate'",
     "output_type": "error",
     "traceback": [
      "\u001B[1;31m---------------------------------------------------------------------------\u001B[0m",
      "\u001B[1;31mKeyError\u001B[0m                                  Traceback (most recent call last)",
      "\u001B[1;32mD:\\anaconda3\\envs\\lda\\lib\\site-packages\\pandas\\core\\indexes\\base.py\u001B[0m in \u001B[0;36mget_loc\u001B[1;34m(self, key, method, tolerance)\u001B[0m\n\u001B[0;32m   2894\u001B[0m             \u001B[1;32mtry\u001B[0m\u001B[1;33m:\u001B[0m\u001B[1;33m\u001B[0m\u001B[1;33m\u001B[0m\u001B[0m\n\u001B[1;32m-> 2895\u001B[1;33m                 \u001B[1;32mreturn\u001B[0m \u001B[0mself\u001B[0m\u001B[1;33m.\u001B[0m\u001B[0m_engine\u001B[0m\u001B[1;33m.\u001B[0m\u001B[0mget_loc\u001B[0m\u001B[1;33m(\u001B[0m\u001B[0mcasted_key\u001B[0m\u001B[1;33m)\u001B[0m\u001B[1;33m\u001B[0m\u001B[1;33m\u001B[0m\u001B[0m\n\u001B[0m\u001B[0;32m   2896\u001B[0m             \u001B[1;32mexcept\u001B[0m \u001B[0mKeyError\u001B[0m \u001B[1;32mas\u001B[0m \u001B[0merr\u001B[0m\u001B[1;33m:\u001B[0m\u001B[1;33m\u001B[0m\u001B[1;33m\u001B[0m\u001B[0m\n",
      "\u001B[1;32mpandas\\_libs\\index.pyx\u001B[0m in \u001B[0;36mpandas._libs.index.IndexEngine.get_loc\u001B[1;34m()\u001B[0m\n",
      "\u001B[1;32mpandas\\_libs\\index.pyx\u001B[0m in \u001B[0;36mpandas._libs.index.IndexEngine.get_loc\u001B[1;34m()\u001B[0m\n",
      "\u001B[1;32mpandas\\_libs\\hashtable_class_helper.pxi\u001B[0m in \u001B[0;36mpandas._libs.hashtable.PyObjectHashTable.get_item\u001B[1;34m()\u001B[0m\n",
      "\u001B[1;32mpandas\\_libs\\hashtable_class_helper.pxi\u001B[0m in \u001B[0;36mpandas._libs.hashtable.PyObjectHashTable.get_item\u001B[1;34m()\u001B[0m\n",
      "\u001B[1;31mKeyError\u001B[0m: 'CreationDate'",
      "\nThe above exception was the direct cause of the following exception:\n",
      "\u001B[1;31mKeyError\u001B[0m                                  Traceback (most recent call last)",
      "\u001B[1;32m<ipython-input-27-623061218812>\u001B[0m in \u001B[0;36m<module>\u001B[1;34m\u001B[0m\n\u001B[1;32m----> 1\u001B[1;33m \u001B[0mgensim\u001B[0m\u001B[1;33m[\u001B[0m\u001B[1;34m'CreationDate'\u001B[0m\u001B[1;33m]\u001B[0m \u001B[1;33m=\u001B[0m \u001B[0mpd\u001B[0m\u001B[1;33m.\u001B[0m\u001B[0mto_datetime\u001B[0m\u001B[1;33m(\u001B[0m\u001B[0mgensim\u001B[0m\u001B[1;33m[\u001B[0m\u001B[1;34m'CreationDate'\u001B[0m\u001B[1;33m]\u001B[0m\u001B[1;33m)\u001B[0m\u001B[1;33m\u001B[0m\u001B[1;33m\u001B[0m\u001B[0m\n\u001B[0m\u001B[0;32m      2\u001B[0m \u001B[0mgensim\u001B[0m \u001B[1;33m=\u001B[0m \u001B[0mgensim\u001B[0m\u001B[1;33m.\u001B[0m\u001B[0mset_index\u001B[0m\u001B[1;33m(\u001B[0m\u001B[1;34m'CreationDate'\u001B[0m\u001B[1;33m)\u001B[0m\u001B[1;33m\u001B[0m\u001B[1;33m\u001B[0m\u001B[0m\n\u001B[0;32m      3\u001B[0m \u001B[0mgensim\u001B[0m \u001B[1;33m=\u001B[0m \u001B[0mgensim\u001B[0m\u001B[1;33m.\u001B[0m\u001B[0mresample\u001B[0m\u001B[1;33m(\u001B[0m\u001B[1;34m'Y'\u001B[0m\u001B[1;33m)\u001B[0m\u001B[1;33m.\u001B[0m\u001B[0mcount\u001B[0m\u001B[1;33m(\u001B[0m\u001B[1;33m)\u001B[0m\u001B[1;33m.\u001B[0m\u001B[0mto_period\u001B[0m\u001B[1;33m(\u001B[0m\u001B[1;34m'Y'\u001B[0m\u001B[1;33m)\u001B[0m\u001B[1;33m\u001B[0m\u001B[1;33m\u001B[0m\u001B[0m\n\u001B[0;32m      4\u001B[0m \u001B[0mgensim\u001B[0m\u001B[1;33m\u001B[0m\u001B[1;33m\u001B[0m\u001B[0m\n\u001B[0;32m      5\u001B[0m \u001B[1;33m\u001B[0m\u001B[0m\n",
      "\u001B[1;32mD:\\anaconda3\\envs\\lda\\lib\\site-packages\\pandas\\core\\frame.py\u001B[0m in \u001B[0;36m__getitem__\u001B[1;34m(self, key)\u001B[0m\n\u001B[0;32m   2900\u001B[0m             \u001B[1;32mif\u001B[0m \u001B[0mself\u001B[0m\u001B[1;33m.\u001B[0m\u001B[0mcolumns\u001B[0m\u001B[1;33m.\u001B[0m\u001B[0mnlevels\u001B[0m \u001B[1;33m>\u001B[0m \u001B[1;36m1\u001B[0m\u001B[1;33m:\u001B[0m\u001B[1;33m\u001B[0m\u001B[1;33m\u001B[0m\u001B[0m\n\u001B[0;32m   2901\u001B[0m                 \u001B[1;32mreturn\u001B[0m \u001B[0mself\u001B[0m\u001B[1;33m.\u001B[0m\u001B[0m_getitem_multilevel\u001B[0m\u001B[1;33m(\u001B[0m\u001B[0mkey\u001B[0m\u001B[1;33m)\u001B[0m\u001B[1;33m\u001B[0m\u001B[1;33m\u001B[0m\u001B[0m\n\u001B[1;32m-> 2902\u001B[1;33m             \u001B[0mindexer\u001B[0m \u001B[1;33m=\u001B[0m \u001B[0mself\u001B[0m\u001B[1;33m.\u001B[0m\u001B[0mcolumns\u001B[0m\u001B[1;33m.\u001B[0m\u001B[0mget_loc\u001B[0m\u001B[1;33m(\u001B[0m\u001B[0mkey\u001B[0m\u001B[1;33m)\u001B[0m\u001B[1;33m\u001B[0m\u001B[1;33m\u001B[0m\u001B[0m\n\u001B[0m\u001B[0;32m   2903\u001B[0m             \u001B[1;32mif\u001B[0m \u001B[0mis_integer\u001B[0m\u001B[1;33m(\u001B[0m\u001B[0mindexer\u001B[0m\u001B[1;33m)\u001B[0m\u001B[1;33m:\u001B[0m\u001B[1;33m\u001B[0m\u001B[1;33m\u001B[0m\u001B[0m\n\u001B[0;32m   2904\u001B[0m                 \u001B[0mindexer\u001B[0m \u001B[1;33m=\u001B[0m \u001B[1;33m[\u001B[0m\u001B[0mindexer\u001B[0m\u001B[1;33m]\u001B[0m\u001B[1;33m\u001B[0m\u001B[1;33m\u001B[0m\u001B[0m\n",
      "\u001B[1;32mD:\\anaconda3\\envs\\lda\\lib\\site-packages\\pandas\\core\\indexes\\base.py\u001B[0m in \u001B[0;36mget_loc\u001B[1;34m(self, key, method, tolerance)\u001B[0m\n\u001B[0;32m   2895\u001B[0m                 \u001B[1;32mreturn\u001B[0m \u001B[0mself\u001B[0m\u001B[1;33m.\u001B[0m\u001B[0m_engine\u001B[0m\u001B[1;33m.\u001B[0m\u001B[0mget_loc\u001B[0m\u001B[1;33m(\u001B[0m\u001B[0mcasted_key\u001B[0m\u001B[1;33m)\u001B[0m\u001B[1;33m\u001B[0m\u001B[1;33m\u001B[0m\u001B[0m\n\u001B[0;32m   2896\u001B[0m             \u001B[1;32mexcept\u001B[0m \u001B[0mKeyError\u001B[0m \u001B[1;32mas\u001B[0m \u001B[0merr\u001B[0m\u001B[1;33m:\u001B[0m\u001B[1;33m\u001B[0m\u001B[1;33m\u001B[0m\u001B[0m\n\u001B[1;32m-> 2897\u001B[1;33m                 \u001B[1;32mraise\u001B[0m \u001B[0mKeyError\u001B[0m\u001B[1;33m(\u001B[0m\u001B[0mkey\u001B[0m\u001B[1;33m)\u001B[0m \u001B[1;32mfrom\u001B[0m \u001B[0merr\u001B[0m\u001B[1;33m\u001B[0m\u001B[1;33m\u001B[0m\u001B[0m\n\u001B[0m\u001B[0;32m   2898\u001B[0m \u001B[1;33m\u001B[0m\u001B[0m\n\u001B[0;32m   2899\u001B[0m         \u001B[1;32mif\u001B[0m \u001B[0mtolerance\u001B[0m \u001B[1;32mis\u001B[0m \u001B[1;32mnot\u001B[0m \u001B[1;32mNone\u001B[0m\u001B[1;33m:\u001B[0m\u001B[1;33m\u001B[0m\u001B[1;33m\u001B[0m\u001B[0m\n",
      "\u001B[1;31mKeyError\u001B[0m: 'CreationDate'"
     ]
    }
   ],
   "source": [
    "gensim['CreationDate'] = pd.to_datetime(gensim['CreationDate'])\n",
    "gensim = gensim.set_index('CreationDate')\n",
    "gensim = gensim.resample('Y').count().to_period('Y')\n",
    "gensim\n"
   ],
   "metadata": {
    "collapsed": false,
    "pycharm": {
     "name": "#%%\n"
    }
   }
  },
  {
   "cell_type": "code",
   "execution_count": 28,
   "outputs": [
    {
     "name": "stderr",
     "output_type": "stream",
     "text": [
      "<ipython-input-28-aab31358cde3>:1: SettingWithCopyWarning: \n",
      "A value is trying to be set on a copy of a slice from a DataFrame.\n",
      "Try using .loc[row_indexer,col_indexer] = value instead\n",
      "\n",
      "See the caveats in the documentation: https://pandas.pydata.org/pandas-docs/stable/user_guide/indexing.html#returning-a-view-versus-a-copy\n",
      "  stanfordnlp['CreationDate'] = pd.to_datetime(stanfordnlp['CreationDate'])\n"
     ]
    },
    {
     "data": {
      "text/plain": "              Unnamed: 0   Id  DeletionDate  Body  LastEditDate  \\\nCreationDate                                                      \n2012                 110  110             0   110            71   \n2013                 182  182             0   182           116   \n2014                 272  272             0   272           147   \n2015                 645  645             0   645           313   \n2016                 555  555             0   555           270   \n2017                 537  537             0   536           234   \n2018                 353  353             0   353           153   \n2019                 218  218             0   218           102   \n2020                 196  196             0   196            82   \n\n              LastActivityDate  Title  Tags  ClosedDate  CommunityOwnedDate  \\\nCreationDate                                                                  \n2012                       110    110   110           9                   0   \n2013                       182    182   182          10                   0   \n2014                       272    272   272          10                   0   \n2015                       645    645   645          12                   0   \n2016                       555    555   555          13                   0   \n2017                       537    537   537          10                   0   \n2018                       353    353   353           8                   0   \n2019                       218    218   218           2                   0   \n2020                       196    196   196           1                   0   \n\n              ContentLicense  nltk  spacy  gensim  stanford-nlp  scikit-learn  \nCreationDate                                                                   \n2012                     110   110    110     110           110           110  \n2013                     182   182    182     182           182           182  \n2014                     272   272    272     272           272           272  \n2015                     645   645    645     645           645           645  \n2016                     555   555    555     555           555           555  \n2017                     537   537    537     537           537           537  \n2018                     353   353    353     353           353           353  \n2019                     218   218    218     218           218           218  \n2020                     196   196    196     196           196           196  ",
      "text/html": "<div>\n<style scoped>\n    .dataframe tbody tr th:only-of-type {\n        vertical-align: middle;\n    }\n\n    .dataframe tbody tr th {\n        vertical-align: top;\n    }\n\n    .dataframe thead th {\n        text-align: right;\n    }\n</style>\n<table border=\"1\" class=\"dataframe\">\n  <thead>\n    <tr style=\"text-align: right;\">\n      <th></th>\n      <th>Unnamed: 0</th>\n      <th>Id</th>\n      <th>DeletionDate</th>\n      <th>Body</th>\n      <th>LastEditDate</th>\n      <th>LastActivityDate</th>\n      <th>Title</th>\n      <th>Tags</th>\n      <th>ClosedDate</th>\n      <th>CommunityOwnedDate</th>\n      <th>ContentLicense</th>\n      <th>nltk</th>\n      <th>spacy</th>\n      <th>gensim</th>\n      <th>stanford-nlp</th>\n      <th>scikit-learn</th>\n    </tr>\n    <tr>\n      <th>CreationDate</th>\n      <th></th>\n      <th></th>\n      <th></th>\n      <th></th>\n      <th></th>\n      <th></th>\n      <th></th>\n      <th></th>\n      <th></th>\n      <th></th>\n      <th></th>\n      <th></th>\n      <th></th>\n      <th></th>\n      <th></th>\n      <th></th>\n    </tr>\n  </thead>\n  <tbody>\n    <tr>\n      <th>2012</th>\n      <td>110</td>\n      <td>110</td>\n      <td>0</td>\n      <td>110</td>\n      <td>71</td>\n      <td>110</td>\n      <td>110</td>\n      <td>110</td>\n      <td>9</td>\n      <td>0</td>\n      <td>110</td>\n      <td>110</td>\n      <td>110</td>\n      <td>110</td>\n      <td>110</td>\n      <td>110</td>\n    </tr>\n    <tr>\n      <th>2013</th>\n      <td>182</td>\n      <td>182</td>\n      <td>0</td>\n      <td>182</td>\n      <td>116</td>\n      <td>182</td>\n      <td>182</td>\n      <td>182</td>\n      <td>10</td>\n      <td>0</td>\n      <td>182</td>\n      <td>182</td>\n      <td>182</td>\n      <td>182</td>\n      <td>182</td>\n      <td>182</td>\n    </tr>\n    <tr>\n      <th>2014</th>\n      <td>272</td>\n      <td>272</td>\n      <td>0</td>\n      <td>272</td>\n      <td>147</td>\n      <td>272</td>\n      <td>272</td>\n      <td>272</td>\n      <td>10</td>\n      <td>0</td>\n      <td>272</td>\n      <td>272</td>\n      <td>272</td>\n      <td>272</td>\n      <td>272</td>\n      <td>272</td>\n    </tr>\n    <tr>\n      <th>2015</th>\n      <td>645</td>\n      <td>645</td>\n      <td>0</td>\n      <td>645</td>\n      <td>313</td>\n      <td>645</td>\n      <td>645</td>\n      <td>645</td>\n      <td>12</td>\n      <td>0</td>\n      <td>645</td>\n      <td>645</td>\n      <td>645</td>\n      <td>645</td>\n      <td>645</td>\n      <td>645</td>\n    </tr>\n    <tr>\n      <th>2016</th>\n      <td>555</td>\n      <td>555</td>\n      <td>0</td>\n      <td>555</td>\n      <td>270</td>\n      <td>555</td>\n      <td>555</td>\n      <td>555</td>\n      <td>13</td>\n      <td>0</td>\n      <td>555</td>\n      <td>555</td>\n      <td>555</td>\n      <td>555</td>\n      <td>555</td>\n      <td>555</td>\n    </tr>\n    <tr>\n      <th>2017</th>\n      <td>537</td>\n      <td>537</td>\n      <td>0</td>\n      <td>536</td>\n      <td>234</td>\n      <td>537</td>\n      <td>537</td>\n      <td>537</td>\n      <td>10</td>\n      <td>0</td>\n      <td>537</td>\n      <td>537</td>\n      <td>537</td>\n      <td>537</td>\n      <td>537</td>\n      <td>537</td>\n    </tr>\n    <tr>\n      <th>2018</th>\n      <td>353</td>\n      <td>353</td>\n      <td>0</td>\n      <td>353</td>\n      <td>153</td>\n      <td>353</td>\n      <td>353</td>\n      <td>353</td>\n      <td>8</td>\n      <td>0</td>\n      <td>353</td>\n      <td>353</td>\n      <td>353</td>\n      <td>353</td>\n      <td>353</td>\n      <td>353</td>\n    </tr>\n    <tr>\n      <th>2019</th>\n      <td>218</td>\n      <td>218</td>\n      <td>0</td>\n      <td>218</td>\n      <td>102</td>\n      <td>218</td>\n      <td>218</td>\n      <td>218</td>\n      <td>2</td>\n      <td>0</td>\n      <td>218</td>\n      <td>218</td>\n      <td>218</td>\n      <td>218</td>\n      <td>218</td>\n      <td>218</td>\n    </tr>\n    <tr>\n      <th>2020</th>\n      <td>196</td>\n      <td>196</td>\n      <td>0</td>\n      <td>196</td>\n      <td>82</td>\n      <td>196</td>\n      <td>196</td>\n      <td>196</td>\n      <td>1</td>\n      <td>0</td>\n      <td>196</td>\n      <td>196</td>\n      <td>196</td>\n      <td>196</td>\n      <td>196</td>\n      <td>196</td>\n    </tr>\n  </tbody>\n</table>\n</div>"
     },
     "execution_count": 28,
     "metadata": {},
     "output_type": "execute_result"
    }
   ],
   "source": [
    "stanfordnlp['CreationDate'] = pd.to_datetime(stanfordnlp['CreationDate'])\n",
    "stanfordnlp = stanfordnlp.set_index('CreationDate')\n",
    "stanfordnlp = stanfordnlp.resample('Y').count().to_period('Y')\n",
    "stanfordnlp\n"
   ],
   "metadata": {
    "collapsed": false,
    "pycharm": {
     "name": "#%%\n"
    }
   }
  },
  {
   "cell_type": "code",
   "execution_count": 29,
   "outputs": [
    {
     "name": "stderr",
     "output_type": "stream",
     "text": [
      "<ipython-input-29-0e9f67d73222>:1: SettingWithCopyWarning: \n",
      "A value is trying to be set on a copy of a slice from a DataFrame.\n",
      "Try using .loc[row_indexer,col_indexer] = value instead\n",
      "\n",
      "See the caveats in the documentation: https://pandas.pydata.org/pandas-docs/stable/user_guide/indexing.html#returning-a-view-versus-a-copy\n",
      "  sklearn['CreationDate'] = pd.to_datetime(sklearn['CreationDate'])\n"
     ]
    },
    {
     "data": {
      "text/plain": "              Unnamed: 0   Id  DeletionDate  Body  LastEditDate  \\\nCreationDate                                                      \n2012                  12   12             0    12             7   \n2013                  43   43             0    43            25   \n2014                 111  111             0   111            68   \n2015                 158  158             0   158            92   \n2016                 231  231             0   231           124   \n2017                 288  288             0   288           160   \n2018                 261  261             0   260           155   \n2019                 295  295             0   295           174   \n2020                 232  232             0   232           112   \n\n              LastActivityDate  Title  Tags  ClosedDate  CommunityOwnedDate  \\\nCreationDate                                                                  \n2012                        12     12    12           0                   0   \n2013                        43     43    43           0                   0   \n2014                       111    111   111           1                   0   \n2015                       158    158   158           0                   0   \n2016                       231    231   231          10                   0   \n2017                       288    288   288           6                   0   \n2018                       261    261   261           8                   0   \n2019                       295    295   295           2                   0   \n2020                       232    232   232           8                   0   \n\n              ContentLicense  nltk  spacy  gensim  stanford-nlp  scikit-learn  \nCreationDate                                                                   \n2012                      12    12     12      12            12            12  \n2013                      43    43     43      43            43            43  \n2014                     111   111    111     111           111           111  \n2015                     158   158    158     158           158           158  \n2016                     231   231    231     231           231           231  \n2017                     288   288    288     288           288           288  \n2018                     261   261    261     261           261           261  \n2019                     295   295    295     295           295           295  \n2020                     232   232    232     232           232           232  ",
      "text/html": "<div>\n<style scoped>\n    .dataframe tbody tr th:only-of-type {\n        vertical-align: middle;\n    }\n\n    .dataframe tbody tr th {\n        vertical-align: top;\n    }\n\n    .dataframe thead th {\n        text-align: right;\n    }\n</style>\n<table border=\"1\" class=\"dataframe\">\n  <thead>\n    <tr style=\"text-align: right;\">\n      <th></th>\n      <th>Unnamed: 0</th>\n      <th>Id</th>\n      <th>DeletionDate</th>\n      <th>Body</th>\n      <th>LastEditDate</th>\n      <th>LastActivityDate</th>\n      <th>Title</th>\n      <th>Tags</th>\n      <th>ClosedDate</th>\n      <th>CommunityOwnedDate</th>\n      <th>ContentLicense</th>\n      <th>nltk</th>\n      <th>spacy</th>\n      <th>gensim</th>\n      <th>stanford-nlp</th>\n      <th>scikit-learn</th>\n    </tr>\n    <tr>\n      <th>CreationDate</th>\n      <th></th>\n      <th></th>\n      <th></th>\n      <th></th>\n      <th></th>\n      <th></th>\n      <th></th>\n      <th></th>\n      <th></th>\n      <th></th>\n      <th></th>\n      <th></th>\n      <th></th>\n      <th></th>\n      <th></th>\n      <th></th>\n    </tr>\n  </thead>\n  <tbody>\n    <tr>\n      <th>2012</th>\n      <td>12</td>\n      <td>12</td>\n      <td>0</td>\n      <td>12</td>\n      <td>7</td>\n      <td>12</td>\n      <td>12</td>\n      <td>12</td>\n      <td>0</td>\n      <td>0</td>\n      <td>12</td>\n      <td>12</td>\n      <td>12</td>\n      <td>12</td>\n      <td>12</td>\n      <td>12</td>\n    </tr>\n    <tr>\n      <th>2013</th>\n      <td>43</td>\n      <td>43</td>\n      <td>0</td>\n      <td>43</td>\n      <td>25</td>\n      <td>43</td>\n      <td>43</td>\n      <td>43</td>\n      <td>0</td>\n      <td>0</td>\n      <td>43</td>\n      <td>43</td>\n      <td>43</td>\n      <td>43</td>\n      <td>43</td>\n      <td>43</td>\n    </tr>\n    <tr>\n      <th>2014</th>\n      <td>111</td>\n      <td>111</td>\n      <td>0</td>\n      <td>111</td>\n      <td>68</td>\n      <td>111</td>\n      <td>111</td>\n      <td>111</td>\n      <td>1</td>\n      <td>0</td>\n      <td>111</td>\n      <td>111</td>\n      <td>111</td>\n      <td>111</td>\n      <td>111</td>\n      <td>111</td>\n    </tr>\n    <tr>\n      <th>2015</th>\n      <td>158</td>\n      <td>158</td>\n      <td>0</td>\n      <td>158</td>\n      <td>92</td>\n      <td>158</td>\n      <td>158</td>\n      <td>158</td>\n      <td>0</td>\n      <td>0</td>\n      <td>158</td>\n      <td>158</td>\n      <td>158</td>\n      <td>158</td>\n      <td>158</td>\n      <td>158</td>\n    </tr>\n    <tr>\n      <th>2016</th>\n      <td>231</td>\n      <td>231</td>\n      <td>0</td>\n      <td>231</td>\n      <td>124</td>\n      <td>231</td>\n      <td>231</td>\n      <td>231</td>\n      <td>10</td>\n      <td>0</td>\n      <td>231</td>\n      <td>231</td>\n      <td>231</td>\n      <td>231</td>\n      <td>231</td>\n      <td>231</td>\n    </tr>\n    <tr>\n      <th>2017</th>\n      <td>288</td>\n      <td>288</td>\n      <td>0</td>\n      <td>288</td>\n      <td>160</td>\n      <td>288</td>\n      <td>288</td>\n      <td>288</td>\n      <td>6</td>\n      <td>0</td>\n      <td>288</td>\n      <td>288</td>\n      <td>288</td>\n      <td>288</td>\n      <td>288</td>\n      <td>288</td>\n    </tr>\n    <tr>\n      <th>2018</th>\n      <td>261</td>\n      <td>261</td>\n      <td>0</td>\n      <td>260</td>\n      <td>155</td>\n      <td>261</td>\n      <td>261</td>\n      <td>261</td>\n      <td>8</td>\n      <td>0</td>\n      <td>261</td>\n      <td>261</td>\n      <td>261</td>\n      <td>261</td>\n      <td>261</td>\n      <td>261</td>\n    </tr>\n    <tr>\n      <th>2019</th>\n      <td>295</td>\n      <td>295</td>\n      <td>0</td>\n      <td>295</td>\n      <td>174</td>\n      <td>295</td>\n      <td>295</td>\n      <td>295</td>\n      <td>2</td>\n      <td>0</td>\n      <td>295</td>\n      <td>295</td>\n      <td>295</td>\n      <td>295</td>\n      <td>295</td>\n      <td>295</td>\n    </tr>\n    <tr>\n      <th>2020</th>\n      <td>232</td>\n      <td>232</td>\n      <td>0</td>\n      <td>232</td>\n      <td>112</td>\n      <td>232</td>\n      <td>232</td>\n      <td>232</td>\n      <td>8</td>\n      <td>0</td>\n      <td>232</td>\n      <td>232</td>\n      <td>232</td>\n      <td>232</td>\n      <td>232</td>\n      <td>232</td>\n    </tr>\n  </tbody>\n</table>\n</div>"
     },
     "execution_count": 29,
     "metadata": {},
     "output_type": "execute_result"
    }
   ],
   "source": [
    "sklearn['CreationDate'] = pd.to_datetime(sklearn['CreationDate'])\n",
    "sklearn = sklearn.set_index('CreationDate')\n",
    "sklearn = sklearn.resample('Y').count().to_period('Y')\n",
    "sklearn\n"
   ],
   "metadata": {
    "collapsed": false,
    "pycharm": {
     "name": "#%%\n"
    }
   }
  },
  {
   "cell_type": "code",
   "execution_count": 46,
   "outputs": [
    {
     "name": "stdout",
     "output_type": "stream",
     "text": [
      "29417\n",
      "14270\n"
     ]
    }
   ],
   "source": [
    "cnt = 0\n",
    "for index, row in df.iterrows():\n",
    "    if(row['nltk']==True or row['spacy']==True or row['gensim']==True or row['stanford-nlp']==True or row['scikit-learn']==True):\n",
    "        cnt += 1\n",
    "\n",
    "print(len(df))\n",
    "print(cnt)\n"
   ],
   "metadata": {
    "collapsed": false,
    "pycharm": {
     "name": "#%%\n"
    }
   }
  },
  {
   "cell_type": "code",
   "execution_count": 3,
   "outputs": [
    {
     "name": "stdout",
     "output_type": "stream",
     "text": [
      "5437\n",
      "4731\n",
      "1467\n",
      "1598\n"
     ]
    }
   ],
   "source": [
    "def ismachinelearning(str):\n",
    "    a = re.search(r'\\b(machine-learning|machine learning|classification|word2vec|word-embedding|word vector|word embedding)\\b', str)\n",
    "    if a is None:\n",
    "        return False\n",
    "    else:\n",
    "        return True\n",
    "def isdeeplearning(str):\n",
    "    a = re.search(r'\\b(deep-learning|deep learning|pytorch|keras|kera|tensorflow|bert|torch|tf|nn|neural-network|neural network)\\b', str)\n",
    "    if a is None:\n",
    "        return False\n",
    "    else:\n",
    "        return True\n",
    "def istextprocess(str):\n",
    "    a = re.search(r'\\b(text processing|text-processing|text-mining)\\b', str)\n",
    "    if a is None:\n",
    "        return False\n",
    "    else:\n",
    "        return True\n",
    "def ismetric(str):\n",
    "    a = re.search(r'\\b(similarity|metric|bleu|cosine-similarity)\\b', str)\n",
    "    if a is None:\n",
    "        return False\n",
    "    else:\n",
    "        return True\n",
    "cnt1 = 0\n",
    "cnt2 = 0\n",
    "cnt3 = 0\n",
    "cnt4 = 0\n",
    "for index, row in df.iterrows():\n",
    "    title = str(row['Title'])\n",
    "    tags = str(row['Tags'])\n",
    "    body = str(row['Body'])\n",
    "    txt = title + tags + body\n",
    "    if (ismachinelearning(txt)==True ):\n",
    "        cnt1 += 1\n",
    "    if(isdeeplearning(txt)==True ):\n",
    "        cnt2 += 1\n",
    "    if(istextprocess(txt)==True):\n",
    "        cnt3 += 1\n",
    "    if(ismetric(txt)==True):\n",
    "        cnt4 += 1\n",
    "print(cnt1)\n",
    "print(cnt2)\n",
    "print(cnt3)\n",
    "print(cnt4)\n",
    "\n"
   ],
   "metadata": {
    "collapsed": false,
    "pycharm": {
     "name": "#%%\n"
    }
   }
  },
  {
   "cell_type": "code",
   "execution_count": 47,
   "outputs": [
    {
     "data": {
      "text/plain": "              cnt  percentage\ngensim        103        0.35\nntlk          104        0.35\nsklearn       100        0.34\nspacy          67        0.23\nstanford-nlp  104        0.35",
      "text/html": "<div>\n<style scoped>\n    .dataframe tbody tr th:only-of-type {\n        vertical-align: middle;\n    }\n\n    .dataframe tbody tr th {\n        vertical-align: top;\n    }\n\n    .dataframe thead th {\n        text-align: right;\n    }\n</style>\n<table border=\"1\" class=\"dataframe\">\n  <thead>\n    <tr style=\"text-align: right;\">\n      <th></th>\n      <th>cnt</th>\n      <th>percentage</th>\n    </tr>\n  </thead>\n  <tbody>\n    <tr>\n      <th>gensim</th>\n      <td>103</td>\n      <td>0.35</td>\n    </tr>\n    <tr>\n      <th>ntlk</th>\n      <td>104</td>\n      <td>0.35</td>\n    </tr>\n    <tr>\n      <th>sklearn</th>\n      <td>100</td>\n      <td>0.34</td>\n    </tr>\n    <tr>\n      <th>spacy</th>\n      <td>67</td>\n      <td>0.23</td>\n    </tr>\n    <tr>\n      <th>stanford-nlp</th>\n      <td>104</td>\n      <td>0.35</td>\n    </tr>\n  </tbody>\n</table>\n</div>"
     },
     "execution_count": 47,
     "metadata": {},
     "output_type": "execute_result"
    },
    {
     "data": {
      "text/plain": "<Figure size 432x288 with 1 Axes>",
      "image/png": "[encoded data removed]"
     },
     "metadata": {
      "needs_background": "light"
     },
     "output_type": "display_data"
    }
   ],
   "source": [
    "from pandas import DataFrame\n",
    "libcount = df[['Id', 'CreationDate', 'nltk', 'spacy', 'gensim', 'stanford-nlp', 'scikit-learn']]\n",
    "data = {'cnt':{'ntlk':len(nltk), 'spacy':len(spacy), 'gensim':len(gensim),\n",
    "               'stanford-nlp':len(stanfordnlp), 'sklearn':len(sklearn)}}\n",
    "data = DataFrame(data)\n",
    "import matplotlib.pyplot as plt\n",
    "data['percentage'] = 0.0\n",
    "sum = len(df)\n",
    "for index, row in data.iterrows():\n",
    "    data.at[index, 'percentage'] = round(row['cnt']/sum,4)*100\n",
    "\n",
    "data['cnt'].plot.bar()\n",
    "# plt.show()\n",
    "plt.savefig('../picture/nlplib-cnt.png')\n",
    "data\n"
   ],
   "metadata": {
    "collapsed": false,
    "pycharm": {
     "name": "#%%\n"
    }
   }
  },
  {
   "cell_type": "code",
   "execution_count": 48,
   "outputs": [
    {
     "data": {
      "text/plain": "<Figure size 432x288 with 1 Axes>",
      "image/png": "[encoded data removed]"
     },
     "metadata": {
      "needs_background": "light"
     },
     "output_type": "display_data"
    }
   ],
   "source": [
    "data['percentage'].plot.bar()\n",
    "# plt.show()\n",
    "plt.savefig('../picture/nlplib-per.png')\n"
   ],
   "metadata": {
    "collapsed": false,
    "pycharm": {
     "name": "#%%\n"
    }
   }
  },
  {
   "cell_type": "code",
   "execution_count": 49,
   "outputs": [
    {
     "ename": "KeyError",
     "evalue": "\"None of [Index(['Id', 'CreationDate'], dtype='object')] are in the [columns]\"",
     "output_type": "error",
     "traceback": [
      "\u001B[1;31m---------------------------------------------------------------------------\u001B[0m",
      "\u001B[1;31mKeyError\u001B[0m                                  Traceback (most recent call last)",
      "\u001B[1;32m<ipython-input-49-c16935147864>\u001B[0m in \u001B[0;36m<module>\u001B[1;34m\u001B[0m\n\u001B[1;32m----> 1\u001B[1;33m \u001B[0mnltk\u001B[0m \u001B[1;33m=\u001B[0m \u001B[0mnltk\u001B[0m\u001B[1;33m[\u001B[0m\u001B[1;33m[\u001B[0m\u001B[1;34m'Id'\u001B[0m\u001B[1;33m,\u001B[0m\u001B[1;34m'CreationDate'\u001B[0m\u001B[1;33m]\u001B[0m\u001B[1;33m]\u001B[0m\u001B[1;33m\u001B[0m\u001B[1;33m\u001B[0m\u001B[0m\n\u001B[0m\u001B[0;32m      2\u001B[0m \u001B[0mnltk\u001B[0m\u001B[1;33m[\u001B[0m\u001B[1;34m'CreationDate'\u001B[0m\u001B[1;33m]\u001B[0m \u001B[1;33m=\u001B[0m \u001B[0mpd\u001B[0m\u001B[1;33m.\u001B[0m\u001B[0mto_datetime\u001B[0m\u001B[1;33m(\u001B[0m\u001B[0mnltk\u001B[0m\u001B[1;33m[\u001B[0m\u001B[1;34m'CreationDate'\u001B[0m\u001B[1;33m]\u001B[0m\u001B[1;33m)\u001B[0m\u001B[1;33m\u001B[0m\u001B[1;33m\u001B[0m\u001B[0m\n\u001B[0;32m      3\u001B[0m \u001B[0mnltk\u001B[0m \u001B[1;33m=\u001B[0m \u001B[0mnltk\u001B[0m\u001B[1;33m.\u001B[0m\u001B[0mset_index\u001B[0m\u001B[1;33m(\u001B[0m\u001B[1;34m'CreationDate'\u001B[0m\u001B[1;33m)\u001B[0m\u001B[1;33m\u001B[0m\u001B[1;33m\u001B[0m\u001B[0m\n\u001B[0;32m      4\u001B[0m \u001B[0mnltk\u001B[0m \u001B[1;33m=\u001B[0m \u001B[0mnltk\u001B[0m\u001B[1;33m.\u001B[0m\u001B[0mresample\u001B[0m\u001B[1;33m(\u001B[0m\u001B[1;34m'M'\u001B[0m\u001B[1;33m)\u001B[0m\u001B[1;33m.\u001B[0m\u001B[0mcount\u001B[0m\u001B[1;33m(\u001B[0m\u001B[1;33m)\u001B[0m\u001B[1;33m.\u001B[0m\u001B[0mto_period\u001B[0m\u001B[1;33m(\u001B[0m\u001B[1;34m'M'\u001B[0m\u001B[1;33m)\u001B[0m\u001B[1;33m\u001B[0m\u001B[1;33m\u001B[0m\u001B[0m\n\u001B[0;32m      5\u001B[0m \u001B[0mnltk\u001B[0m\u001B[1;33m.\u001B[0m\u001B[0mrename\u001B[0m\u001B[1;33m(\u001B[0m\u001B[0mcolumns\u001B[0m\u001B[1;33m=\u001B[0m\u001B[1;33m{\u001B[0m\u001B[1;34m'Id'\u001B[0m\u001B[1;33m:\u001B[0m\u001B[1;34m'nltk'\u001B[0m\u001B[1;33m}\u001B[0m\u001B[1;33m,\u001B[0m\u001B[0minplace\u001B[0m \u001B[1;33m=\u001B[0m \u001B[1;32mTrue\u001B[0m\u001B[1;33m)\u001B[0m\u001B[1;33m\u001B[0m\u001B[1;33m\u001B[0m\u001B[0m\n",
      "\u001B[1;32mD:\\anaconda3\\envs\\lda\\lib\\site-packages\\pandas\\core\\frame.py\u001B[0m in \u001B[0;36m__getitem__\u001B[1;34m(self, key)\u001B[0m\n\u001B[0;32m   2906\u001B[0m             \u001B[1;32mif\u001B[0m \u001B[0mis_iterator\u001B[0m\u001B[1;33m(\u001B[0m\u001B[0mkey\u001B[0m\u001B[1;33m)\u001B[0m\u001B[1;33m:\u001B[0m\u001B[1;33m\u001B[0m\u001B[1;33m\u001B[0m\u001B[0m\n\u001B[0;32m   2907\u001B[0m                 \u001B[0mkey\u001B[0m \u001B[1;33m=\u001B[0m \u001B[0mlist\u001B[0m\u001B[1;33m(\u001B[0m\u001B[0mkey\u001B[0m\u001B[1;33m)\u001B[0m\u001B[1;33m\u001B[0m\u001B[1;33m\u001B[0m\u001B[0m\n\u001B[1;32m-> 2908\u001B[1;33m             \u001B[0mindexer\u001B[0m \u001B[1;33m=\u001B[0m \u001B[0mself\u001B[0m\u001B[1;33m.\u001B[0m\u001B[0mloc\u001B[0m\u001B[1;33m.\u001B[0m\u001B[0m_get_listlike_indexer\u001B[0m\u001B[1;33m(\u001B[0m\u001B[0mkey\u001B[0m\u001B[1;33m,\u001B[0m \u001B[0maxis\u001B[0m\u001B[1;33m=\u001B[0m\u001B[1;36m1\u001B[0m\u001B[1;33m,\u001B[0m \u001B[0mraise_missing\u001B[0m\u001B[1;33m=\u001B[0m\u001B[1;32mTrue\u001B[0m\u001B[1;33m)\u001B[0m\u001B[1;33m[\u001B[0m\u001B[1;36m1\u001B[0m\u001B[1;33m]\u001B[0m\u001B[1;33m\u001B[0m\u001B[1;33m\u001B[0m\u001B[0m\n\u001B[0m\u001B[0;32m   2909\u001B[0m \u001B[1;33m\u001B[0m\u001B[0m\n\u001B[0;32m   2910\u001B[0m         \u001B[1;31m# take() does not accept boolean indexers\u001B[0m\u001B[1;33m\u001B[0m\u001B[1;33m\u001B[0m\u001B[1;33m\u001B[0m\u001B[0m\n",
      "\u001B[1;32mD:\\anaconda3\\envs\\lda\\lib\\site-packages\\pandas\\core\\indexing.py\u001B[0m in \u001B[0;36m_get_listlike_indexer\u001B[1;34m(self, key, axis, raise_missing)\u001B[0m\n\u001B[0;32m   1252\u001B[0m             \u001B[0mkeyarr\u001B[0m\u001B[1;33m,\u001B[0m \u001B[0mindexer\u001B[0m\u001B[1;33m,\u001B[0m \u001B[0mnew_indexer\u001B[0m \u001B[1;33m=\u001B[0m \u001B[0max\u001B[0m\u001B[1;33m.\u001B[0m\u001B[0m_reindex_non_unique\u001B[0m\u001B[1;33m(\u001B[0m\u001B[0mkeyarr\u001B[0m\u001B[1;33m)\u001B[0m\u001B[1;33m\u001B[0m\u001B[1;33m\u001B[0m\u001B[0m\n\u001B[0;32m   1253\u001B[0m \u001B[1;33m\u001B[0m\u001B[0m\n\u001B[1;32m-> 1254\u001B[1;33m         \u001B[0mself\u001B[0m\u001B[1;33m.\u001B[0m\u001B[0m_validate_read_indexer\u001B[0m\u001B[1;33m(\u001B[0m\u001B[0mkeyarr\u001B[0m\u001B[1;33m,\u001B[0m \u001B[0mindexer\u001B[0m\u001B[1;33m,\u001B[0m \u001B[0maxis\u001B[0m\u001B[1;33m,\u001B[0m \u001B[0mraise_missing\u001B[0m\u001B[1;33m=\u001B[0m\u001B[0mraise_missing\u001B[0m\u001B[1;33m)\u001B[0m\u001B[1;33m\u001B[0m\u001B[1;33m\u001B[0m\u001B[0m\n\u001B[0m\u001B[0;32m   1255\u001B[0m         \u001B[1;32mreturn\u001B[0m \u001B[0mkeyarr\u001B[0m\u001B[1;33m,\u001B[0m \u001B[0mindexer\u001B[0m\u001B[1;33m\u001B[0m\u001B[1;33m\u001B[0m\u001B[0m\n\u001B[0;32m   1256\u001B[0m \u001B[1;33m\u001B[0m\u001B[0m\n",
      "\u001B[1;32mD:\\anaconda3\\envs\\lda\\lib\\site-packages\\pandas\\core\\indexing.py\u001B[0m in \u001B[0;36m_validate_read_indexer\u001B[1;34m(self, key, indexer, axis, raise_missing)\u001B[0m\n\u001B[0;32m   1296\u001B[0m             \u001B[1;32mif\u001B[0m \u001B[0mmissing\u001B[0m \u001B[1;33m==\u001B[0m \u001B[0mlen\u001B[0m\u001B[1;33m(\u001B[0m\u001B[0mindexer\u001B[0m\u001B[1;33m)\u001B[0m\u001B[1;33m:\u001B[0m\u001B[1;33m\u001B[0m\u001B[1;33m\u001B[0m\u001B[0m\n\u001B[0;32m   1297\u001B[0m                 \u001B[0maxis_name\u001B[0m \u001B[1;33m=\u001B[0m \u001B[0mself\u001B[0m\u001B[1;33m.\u001B[0m\u001B[0mobj\u001B[0m\u001B[1;33m.\u001B[0m\u001B[0m_get_axis_name\u001B[0m\u001B[1;33m(\u001B[0m\u001B[0maxis\u001B[0m\u001B[1;33m)\u001B[0m\u001B[1;33m\u001B[0m\u001B[1;33m\u001B[0m\u001B[0m\n\u001B[1;32m-> 1298\u001B[1;33m                 \u001B[1;32mraise\u001B[0m \u001B[0mKeyError\u001B[0m\u001B[1;33m(\u001B[0m\u001B[1;34mf\"None of [{key}] are in the [{axis_name}]\"\u001B[0m\u001B[1;33m)\u001B[0m\u001B[1;33m\u001B[0m\u001B[1;33m\u001B[0m\u001B[0m\n\u001B[0m\u001B[0;32m   1299\u001B[0m \u001B[1;33m\u001B[0m\u001B[0m\n\u001B[0;32m   1300\u001B[0m             \u001B[1;31m# We (temporarily) allow for some missing keys with .loc, except in\u001B[0m\u001B[1;33m\u001B[0m\u001B[1;33m\u001B[0m\u001B[1;33m\u001B[0m\u001B[0m\n",
      "\u001B[1;31mKeyError\u001B[0m: \"None of [Index(['Id', 'CreationDate'], dtype='object')] are in the [columns]\""
     ]
    }
   ],
   "source": [
    "nltk = nltk[['Id','CreationDate']]\n",
    "nltk['CreationDate'] = pd.to_datetime(nltk['CreationDate'])\n",
    "nltk = nltk.set_index('CreationDate')\n",
    "nltk = nltk.resample('M').count().to_period('M')\n",
    "nltk.rename(columns={'Id':'nltk'},inplace = True)\n",
    "nltk.drop(nltk.tail(1).index, inplace=True)\n",
    "\n",
    "spacy = spacy[['Id','CreationDate']]\n",
    "spacy['CreationDate'] = pd.to_datetime(spacy['CreationDate'])\n",
    "spacy = spacy.set_index('CreationDate')\n",
    "spacy = spacy.resample('M').count().to_period('M')\n",
    "spacy.rename(columns={'Id':'spacy'},inplace = True)\n",
    "spacy.drop(spacy.tail(1).index,inplace=True)\n",
    "\n",
    "gensim = gensim[['Id','CreationDate']]\n",
    "gensim['CreationDate'] = pd.to_datetime(gensim['CreationDate'])\n",
    "gensim = gensim.set_index('CreationDate')\n",
    "gensim = gensim.resample('M').count().to_period('M')\n",
    "gensim.rename(columns={'Id':'gensim'},inplace = True)\n",
    "gensim.drop(gensim.tail(1).index,inplace=True)\n",
    "\n",
    "stanfordnlp = stanfordnlp[['Id','CreationDate']]\n",
    "stanfordnlp['CreationDate'] = pd.to_datetime(stanfordnlp['CreationDate'])\n",
    "stanfordnlp = stanfordnlp.set_index('CreationDate')\n",
    "stanfordnlp = stanfordnlp.resample('M').count().to_period('M')\n",
    "stanfordnlp.rename(columns={'Id':'stanfordnlp'},inplace = True)\n",
    "stanfordnlp.drop(stanfordnlp.tail(1).index,inplace=True)\n",
    "\n",
    "sklearn = sklearn[['Id','CreationDate']]\n",
    "sklearn['CreationDate'] = pd.to_datetime(sklearn['CreationDate'])\n",
    "sklearn = sklearn.set_index('CreationDate')\n",
    "sklearn = sklearn.resample('M').count().to_period('M')\n",
    "sklearn.rename(columns={'Id':'sklearn'},inplace = True)\n",
    "sklearn.drop(sklearn.tail(1).index,inplace=True)\n",
    "\n",
    "# import matplotlib.pyplot as plt\n",
    "# nlplib = pd.concat([nltk, spacy, gensim, stanfordnlp, sklearn],axis=1)\n",
    "# nlplib.plot()\n",
    "# plt.savefig('../picture/nlplib.png')"
   ],
   "metadata": {
    "collapsed": false,
    "pycharm": {
     "name": "#%%\n"
    }
   }
  },
  {
   "cell_type": "code",
   "execution_count": null,
   "outputs": [],
   "source": [
    "import matplotlib.pyplot as plt\n",
    "nltk.plot()\n",
    "plt.savefig('../picture/nltk.png')\n",
    "spacy.plot()\n",
    "plt.savefig('../picture/spacy.png')\n",
    "stanfordnlp.plot()\n",
    "plt.savefig('../picture/stanfordnlp.png')\n",
    "sklearn.plot()\n",
    "plt.savefig('../picture/sklearn.png')\n",
    "gensim.plot()\n",
    "plt.savefig('../picture/gensim.png')"
   ],
   "metadata": {
    "collapsed": false,
    "pycharm": {
     "name": "#%%\n"
    }
   }
  },
  {
   "cell_type": "code",
   "execution_count": null,
   "outputs": [],
   "source": [
    "allposts = df[['Id','CreationDate']]\n",
    "allposts['CreationDate'] = pd.to_datetime(allposts['CreationDate'])\n",
    "allposts = allposts.set_index('CreationDate')\n",
    "allposts = allposts.resample('M').count().to_period('M')\n",
    "allposts.rename(columns={'Id':'nlp posts'},inplace = True)\n",
    "allposts.drop(allposts.tail(1).index, inplace=True)\n",
    "\n",
    "nlplibs = df[(df['gensim']==True) | (df['nltk']==True) | (df['spacy']==True) | (df['stanford-nlp']==True) | (df['scikit-learn']==True)]\n",
    "nlplibs = nlplibs[['Id','CreationDate']]\n",
    "nlplibs['CreationDate'] = pd.to_datetime(nlplibs['CreationDate'])\n",
    "nlplibs = nlplibs.set_index('CreationDate')\n",
    "nlplibs = nlplibs.resample('M').count().to_period('M')\n",
    "nlplibs.rename(columns={'Id':'nlp library posts'}, inplace=True)\n",
    "nlplibs.drop(nlplibs.tail(1).index, inplace=True)\n",
    "\n",
    "temp = pd.concat([allposts, nlplibs],axis=1)\n",
    "temp.plot()\n",
    "plt.savefig('../picture/all_vs_nlplib.png')\n"
   ],
   "metadata": {
    "collapsed": false,
    "pycharm": {
     "name": "#%%\n"
    }
   }
  },
  {
   "cell_type": "code",
   "execution_count": null,
   "outputs": [],
   "source": [
    "import pandas as pd\n",
    "import preprocess.pre as pre\n",
    "from nltk.tokenize import RegexpTokenizer\n",
    "from nltk.stem.wordnet import WordNetLemmatizer\n",
    "from gensim.models import Phrases\n",
    "# Remove rare and common tokens.\n",
    "from gensim.corpora import Dictionary\n",
    "# Train LDA model.\n",
    "from gensim.models import LdaModel\n",
    "from pprint import pprint\n",
    "import numpy as np\n",
    "import logging\n",
    "from gensim.models import CoherenceModel\n",
    "logging.basicConfig(format='%(asctime)s : %(levelname)s : %(message)s', level=logging.INFO)\n"
   ],
   "metadata": {
    "collapsed": false,
    "pycharm": {
     "name": "#%%\n"
    }
   }
  },
  {
   "cell_type": "code",
   "execution_count": null,
   "outputs": [],
   "source": [
    "df = pd.read_csv('../analysislib/nlp/gensim.csv')\n",
    "docs = []\n",
    "for index, row in df.iterrows():\n",
    "    body = pre.preprocess(row['Body'])\n",
    "    docs.append(body)\n",
    "print(len(docs))\n",
    "print(docs[0][:50])\n",
    "\n",
    "# Split the documents into tokens.\n",
    "tokenizer = RegexpTokenizer(r'\\w+')\n",
    "for idx in range(len(docs)):\n",
    "    docs[idx] = tokenizer.tokenize(docs[idx])  # Split into words.\n",
    "\n",
    "# Remove numbers, but not words that contain numbers.\n",
    "docs = [[token for token in doc if not token.isnumeric()] for doc in docs]\n",
    "\n",
    "# Remove words that are only one character.\n",
    "docs = [[token for token in doc if len(token) > 1] for doc in docs]\n",
    "\n",
    "# Create a dictionary representation of the documents.\n",
    "dictionary = Dictionary(docs)\n",
    "dictionary.save('../analysislib/nlp/gensim.dict')\n",
    "# dictionary = Dictionary.load('../data/nlp.dict')\n",
    "\n",
    "# Bag-of-words representation of the documents.\n",
    "corpus = [dictionary.doc2bow(doc) for doc in docs]\n",
    "np.save('../analysislib/nlp/gensim.npy',np.array(corpus))\n",
    "# corpus = np.load('../data/nlp_corpus.npy').tolist()\n",
    "print('Number of unique tokens: %d' % len(dictionary))\n",
    "# print('Number of documents: %d' % len(corpus))"
   ],
   "metadata": {
    "collapsed": false,
    "pycharm": {
     "name": "#%%\n"
    }
   }
  },
  {
   "cell_type": "code",
   "execution_count": null,
   "outputs": [],
   "source": [
    "best_coherence = -100\n",
    "best_num_topics = 0\n",
    "coherences = []\n",
    "chunksize = 2000\n",
    "passes = 20\n",
    "iterations = 400\n",
    "eval_every = None  # Don't evaluate model perplexity, takes too much time.\n",
    "\n",
    "    # # Make a index to word dictionary.\n",
    "temp = dictionary[0]  # This is only to \"load\" the dictionary.\n",
    "id2word = dictionary.id2token\n",
    "for i in range(5,15):\n",
    "\n",
    "    num_topics = i\n",
    "    model = LdaModel(\n",
    "        corpus=corpus,\n",
    "        id2word=id2word,\n",
    "        chunksize=chunksize,\n",
    "        alpha='auto',\n",
    "        eta='auto',\n",
    "        iterations=iterations,\n",
    "        num_topics=num_topics,\n",
    "        passes=passes,\n",
    "        eval_every=eval_every\n",
    "    )\n",
    "\n",
    "    top_topics = model.top_topics(corpus)  # , num_words=20)\n",
    "    coherence_model_lda = CoherenceModel(model=model, texts=docs, corpus=corpus, dictionary=dictionary, coherence='c_v')\n",
    "    coherence_lda = coherence_model_lda.get_coherence()\n",
    "\n",
    "    coherences.append(coherence_lda)\n",
    "    if coherence_lda > best_coherence:\n",
    "        best_num_topics = i\n",
    "        best_coherence = coherence_lda\n",
    "        # model.save('../model/nlp_10/nlp_10.model')\n",
    "    model.print_topics(num_topics=i, num_words=15)\n",
    "\n",
    "print(\"best coherence: \"+str(best_coherence))\n",
    "print(\"best topic nums: \"+str(best_num_topics))\n",
    "print(coherences)\n",
    "\n",
    "num_topics = best_num_topics\n",
    "model = LdaModel(\n",
    "    corpus=corpus,\n",
    "    id2word=id2word,\n",
    "    chunksize=chunksize,\n",
    "    alpha='auto',\n",
    "    eta='auto',\n",
    "    iterations=iterations,\n",
    "    num_topics=num_topics,\n",
    "    passes=passes,\n",
    "    eval_every=eval_every\n",
    ")\n",
    "top_topics = model.top_topics(corpus)  # , num_words=20)\n",
    "coherence_model_lda = CoherenceModel(model=model, texts=docs, corpus=corpus, dictionary=dictionary, coherence='c_v')\n",
    "coherence_lda = coherence_model_lda.get_coherence()\n",
    "model.save('../model/nlp_gensim/nlp_gensim.model')\n",
    "model.print_topics(num_topics=best_num_topics, num_words=15)\n",
    "print(coherence_lda)"
   ],
   "metadata": {
    "collapsed": false,
    "pycharm": {
     "name": "#%%\n"
    }
   }
  },
  {
   "cell_type": "code",
   "execution_count": 9,
   "outputs": [],
   "source": [
    "import pandas as pd\n",
    "\n",
    "nlp = pd.read_csv('../data/nlp.csv')\n",
    "\n"
   ],
   "metadata": {
    "collapsed": false,
    "pycharm": {
     "name": "#%%\n"
    }
   }
  }
 ],
 "metadata": {
  "kernelspec": {
   "name": "pycharm-fb4d7dd3",
   "language": "python",
   "display_name": "PyCharm (DL-LDA)"
  },
  "language_info": {
   "codemirror_mode": {
    "name": "ipython",
    "version": 2
   },
   "file_extension": ".py",
   "mimetype": "text/x-python",
   "name": "python",
   "nbconvert_exporter": "python",
   "pygments_lexer": "ipython2",
   "version": "2.7.6"
  }
 },
 "nbformat": 4,
 "nbformat_minor": 0
}