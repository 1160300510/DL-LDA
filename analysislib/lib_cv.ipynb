{
 "cells": [
  {
   "cell_type": "code",
   "execution_count": 1,
   "metadata": {
    "collapsed": true
   },
   "outputs": [
    {
     "name": "stderr",
     "output_type": "stream",
     "text": [
      "D:\\anaconda3\\envs\\lda\\lib\\site-packages\\IPython\\core\\interactiveshell.py:3145: DtypeWarning: Columns (21) have mixed types.Specify dtype option on import or set low_memory=False.\n",
      "  has_raised = await self.run_ast_nodes(code_ast.body, cell_name,\n"
     ]
    }
   ],
   "source": [
    "import re\n",
    "import pandas as pd\n",
    "import preprocess.pre as pre\n",
    "df = pd.read_csv('../data/cv.csv')\n",
    "df.drop(['PostTypeId', 'ParentId', 'OwnerUserId', 'OwnerDisplayName','LastEditorUserId', 'LastEditorDisplayName', 'AcceptedAnswerId', 'Score',\n",
    "       'ViewCount', 'AnswerCount', 'CommentCount', 'FavoriteCount'],axis=1,inplace=True)\n",
    "df['opencv'] = False\n",
    "df['matlab'] = False\n",
    "df['emgucv'] = False\n",
    "df['scikit-image'] = False\n",
    "df['ffmpeg'] = False\n",
    "\n",
    "def isopencv(str):\n",
    "    a = re.search(r'\\bopencv\\b', str)\n",
    "    if a is None:\n",
    "        return False\n",
    "    else:\n",
    "        return True\n",
    "def ismatlab(str):\n",
    "    a = re.search(r'\\b(matlab|mat)\\b', str)\n",
    "    if a is None:\n",
    "        return False\n",
    "    else:\n",
    "        return True\n",
    "def isemgucv(str):\n",
    "    a = re.search(r'\\bemgucv\\b', str)\n",
    "    if a is None:\n",
    "        return False\n",
    "    else:\n",
    "        return True\n",
    "def isscikit_image(str):\n",
    "    a = re.search(r'\\b(scikit-image|scikit image)\\b', str)\n",
    "    if a is None:\n",
    "        return False\n",
    "    else:\n",
    "        return True\n",
    "def isffmpeg(str):\n",
    "    a = re.search(r'\\bffmpeg\\b', str)\n",
    "    if a is None:\n",
    "        return False\n",
    "    else:\n",
    "        return True"
   ]
  },
  {
   "cell_type": "code",
   "execution_count": 2,
   "outputs": [],
   "source": [
    "for index, row in df.iterrows():\n",
    "    title = str(row['Title'])\n",
    "    tags = str(row['Tags'])\n",
    "    body = str(row['Body'])\n",
    "    title = pre.processbody(title)\n",
    "    # print(title)\n",
    "    body = pre.processbody(body)\n",
    "    tags = pre.preprocesstag(tags)\n",
    "    df.at[index, 'opencv'] = isopencv(title)|isopencv(body)|isopencv(tags)\n",
    "    df.at[index, 'matlab'] = ismatlab(title)|ismatlab(body)|ismatlab(tags)\n",
    "    df.at[index, 'emgucv'] = isemgucv(title)|isemgucv(body)|isemgucv(tags)\n",
    "    df.at[index, 'scikit-image'] = isscikit_image(title)|isscikit_image(body)|isscikit_image(tags)\n",
    "    df.at[index, 'ffmpeg'] = isffmpeg(title)|isffmpeg(body)|isffmpeg(tags)\n",
    "\n",
    "opencv = df[df['opencv']==True]\n",
    "matlab = df[df['matlab']==True]\n",
    "emgucv = df[df['emgucv']==True]\n",
    "scikit_image = df[df['scikit-image']==True]\n",
    "ffmpeg = df[df['ffmpeg']==True]\n",
    "\n",
    "opencv.to_csv('../analysislib/cv/opencv.csv')\n",
    "matlab.to_csv('../analysislib/cv/matlab.csv')\n",
    "emgucv.to_csv('../analysislib/cv/emgucv.csv')\n",
    "scikit_image.to_csv('../analysislib/cv/scikit_image.csv')\n",
    "ffmpeg.to_csv('../analysislib/cv/ffmpeg.csv')\n"
   ],
   "metadata": {
    "collapsed": false,
    "pycharm": {
     "name": "#%%\n"
    }
   }
  }
 ],
 "metadata": {
  "kernelspec": {
   "name": "pycharm-fb4d7dd3",
   "language": "python",
   "display_name": "PyCharm (DL-LDA)"
  },
  "language_info": {
   "codemirror_mode": {
    "name": "ipython",
    "version": 2
   },
   "file_extension": ".py",
   "mimetype": "text/x-python",
   "name": "python",
   "nbconvert_exporter": "python",
   "pygments_lexer": "ipython2",
   "version": "2.7.6"
  }
 },
 "nbformat": 4,
 "nbformat_minor": 0
}