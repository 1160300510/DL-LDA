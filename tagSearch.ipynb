{
 "cells": [
  {
   "cell_type": "code",
   "execution_count": 2,
   "outputs": [],
   "source": [
    "import pymysql\n",
    "import pandas as pd\n",
    "import numpy as np\n",
    "from pandas import Series, DataFrame\n",
    "import re\n",
    "#连接数据库\n",
    "def connectDB():\n",
    "    # 打开数据库连接\n",
    "    db = pymysql.connect(\"localhost\", \"root\", \"Wangnima258\", \"stackoverflow\")\n",
    "    # print(\"连接上了...\")\n",
    "    return db\n",
    "#查询操作\n",
    "def queryDb(db, sql):\n",
    "    # 使用 cursor() 方法创建一个游标对象 cursor\n",
    "    cursor = db.cursor()\n",
    "    cursor.execute(sql)\n",
    "    # 获取所有记录列表\n",
    "    results = cursor.fetchone()\n",
    "    return results\n",
    "\"\"\"\n",
    "提取tag\n",
    "\"\"\"\n",
    "def tagPreprocess(tag):\n",
    "    # tag = '<c#><floating-point><type-conversion><double><decimal>'\n",
    "    p1 = re.compile(r'[<](.*?)[>]', re.S)  # 最小匹配\n",
    "    results = re.findall(p1, tag)\n",
    "    tags = []\n",
    "    for s in results:\n",
    "        tags.append(s)\n",
    "    # print(DE)\n",
    "    return tags"
   ],
   "metadata": {
    "collapsed": false,
    "pycharm": {
     "name": "#%%\n",
     "is_executing": false
    }
   }
  },
  {
   "cell_type": "code",
   "execution_count": 5,
   "outputs": [],
   "source": [
    "import pandas as pd\n",
    "\"\"\"\n",
    "分别计算h1和h2，设阈值t1=0.1，t2=0.01，提取标签\n",
    "\"\"\"\n",
    "# def firstStep(csvpath):\n",
    "df = pd.read_csv('/Volumes/My Passport/stackoverflow数据集/nlp.csv')\n",
    "t = {}\n",
    "for index, row in df.iterrows():\n",
    "    s = row['Tags']\n",
    "    # print(s)\n",
    "    tags = tagPreprocess(s)\n",
    "    for tag in tags:\n",
    "        if tag not in t:\n",
    "            t[tag] = 1\n",
    "        else:\n",
    "            t[tag] += 1\n",
    "\n",
    "tag = list(t)\n",
    "a = list(t.values())\n",
    "b = []\n",
    "db = connectDB()\n",
    "for onetag in tag:\n",
    "    sql = \"select Count from Tags where TagName = \" + '\\\"'+ onetag + '\\\"'\n",
    "    result = queryDb(db, sql)\n",
    "    if(result is None):\n",
    "        bvalue = 0\n",
    "    else:\n",
    "        bvalue = result[0]\n",
    "    b.append(bvalue)\n",
    "db.close()\n",
    "frame = pd.DataFrame({'tag':tag,\n",
    "                      'a':a,\n",
    "                      'b':b,\n",
    "                      'c':len(df)})\n",
    "frame['h1'] = frame['a'].div(frame['b'])\n",
    "frame['h2'] = frame['a'].div(frame['c'])\n",
    "frame = frame.drop(frame[(frame.h1<0.1)].index)\n",
    "frame = frame.drop(frame[(frame.h2<0.01)].index)\n",
    "frame\n",
    "frame.to_csv('./nlp.csv')"
   ],
   "metadata": {
    "collapsed": false,
    "pycharm": {
     "name": "#%%\n",
     "is_executing": false
    }
   }
  },
  {
   "cell_type": "code",
   "execution_count": 6,
   "outputs": [],
   "source": [
    "import pandas as pd\n",
    "\"\"\"\n",
    "分别计算h1和h2，设阈值t1=0.1，t2=0.01，提取标签\n",
    "\"\"\"\n",
    "# def firstStep(csvpath):\n",
    "df = pd.read_csv('/Volumes/My Passport/stackoverflow数据集/cv.csv')\n",
    "t = {}\n",
    "for index, row in df.iterrows():\n",
    "    s = row['Tags']\n",
    "    # print(s)\n",
    "    tags = tagPreprocess(s)\n",
    "    for tag in tags:\n",
    "        if tag not in t:\n",
    "            t[tag] = 1\n",
    "        else:\n",
    "            t[tag] += 1\n",
    "\n",
    "tag = list(t)\n",
    "a = list(t.values())\n",
    "b = []\n",
    "db = connectDB()\n",
    "for onetag in tag:\n",
    "    sql = \"select Count from Tags where TagName = \" + '\\\"'+ onetag + '\\\"'\n",
    "    result = queryDb(db, sql)\n",
    "    if(result is None):\n",
    "        bvalue = 0\n",
    "    else:\n",
    "        bvalue = result[0]\n",
    "    b.append(bvalue)\n",
    "db.close()\n",
    "frame = pd.DataFrame({'tag':tag,\n",
    "                      'a':a,\n",
    "                      'b':b,\n",
    "                      'c':len(df)})\n",
    "frame['h1'] = frame['a'].div(frame['b'])\n",
    "frame['h2'] = frame['a'].div(frame['c'])\n",
    "frame = frame.drop(frame[(frame.h1<0.1)].index)\n",
    "frame = frame.drop(frame[(frame.h2<0.01)].index)\n",
    "frame\n",
    "frame.to_csv('./cv.csv')"
   ],
   "metadata": {
    "collapsed": false,
    "pycharm": {
     "name": "#%%\n",
     "is_executing": false
    }
   }
  },
  {
   "cell_type": "code",
   "execution_count": 7,
   "outputs": [],
   "source": [
    "import pandas as pd\n",
    "\"\"\"\n",
    "分别计算h1和h2，设阈值t1=0.1，t2=0.01，提取标签\n",
    "\"\"\"\n",
    "# def firstStep(csvpath):\n",
    "df = pd.read_csv('/Volumes/My Passport/stackoverflow数据集/speech-reg.csv')\n",
    "t = {}\n",
    "for index, row in df.iterrows():\n",
    "    s = row['Tags']\n",
    "    # print(s)\n",
    "    tags = tagPreprocess(s)\n",
    "    for tag in tags:\n",
    "        if tag not in t:\n",
    "            t[tag] = 1\n",
    "        else:\n",
    "            t[tag] += 1\n",
    "\n",
    "tag = list(t)\n",
    "a = list(t.values())\n",
    "b = []\n",
    "db = connectDB()\n",
    "for onetag in tag:\n",
    "    sql = \"select Count from Tags where TagName = \" + '\\\"'+ onetag + '\\\"'\n",
    "    result = queryDb(db, sql)\n",
    "    if(result is None):\n",
    "        bvalue = 0\n",
    "    else:\n",
    "        bvalue = result[0]\n",
    "    b.append(bvalue)\n",
    "db.close()\n",
    "frame = pd.DataFrame({'tag':tag,\n",
    "                      'a':a,\n",
    "                      'b':b,\n",
    "                      'c':len(df)})\n",
    "frame['h1'] = frame['a'].div(frame['b'])\n",
    "frame['h2'] = frame['a'].div(frame['c'])\n",
    "frame = frame.drop(frame[(frame.h1<0.1)].index)\n",
    "frame = frame.drop(frame[(frame.h2<0.01)].index)\n",
    "frame\n",
    "frame.to_csv('./speech-reg.csv')"
   ],
   "metadata": {
    "collapsed": false,
    "pycharm": {
     "name": "#%%\n",
     "is_executing": false
    }
   }
  },
  {
   "cell_type": "code",
   "execution_count": 8,
   "outputs": [],
   "source": [
    "import pandas as pd\n",
    "\"\"\"\n",
    "分别计算h1和h2，设阈值t1=0.1，t2=0.01，提取标签\n",
    "\"\"\"\n",
    "# def firstStep(csvpath):\n",
    "df = pd.read_csv('/Volumes/My Passport/stackoverflow数据集/opencv.csv')\n",
    "t = {}\n",
    "for index, row in df.iterrows():\n",
    "    s = row['Tags']\n",
    "    # print(s)\n",
    "    tags = tagPreprocess(s)\n",
    "    for tag in tags:\n",
    "        if tag not in t:\n",
    "            t[tag] = 1\n",
    "        else:\n",
    "            t[tag] += 1\n",
    "\n",
    "tag = list(t)\n",
    "a = list(t.values())\n",
    "b = []\n",
    "db = connectDB()\n",
    "for onetag in tag:\n",
    "    sql = \"select Count from Tags where TagName = \" + '\\\"'+ onetag + '\\\"'\n",
    "    result = queryDb(db, sql)\n",
    "    if(result is None):\n",
    "        bvalue = 0\n",
    "    else:\n",
    "        bvalue = result[0]\n",
    "    b.append(bvalue)\n",
    "db.close()\n",
    "frame = pd.DataFrame({'tag':tag,\n",
    "                      'a':a,\n",
    "                      'b':b,\n",
    "                      'c':len(df)})\n",
    "frame['h1'] = frame['a'].div(frame['b'])\n",
    "frame['h2'] = frame['a'].div(frame['c'])\n",
    "frame = frame.drop(frame[(frame.h1<0.1)].index)\n",
    "frame = frame.drop(frame[(frame.h2<0.01)].index)\n",
    "frame\n",
    "frame.to_csv('./opencv.csv')\n"
   ],
   "metadata": {
    "collapsed": false,
    "pycharm": {
     "name": "#%%\n",
     "is_executing": false
    }
   }
  }
 ],
 "metadata": {
  "language_info": {
   "codemirror_mode": {
    "name": "ipython",
    "version": 2
   },
   "file_extension": ".py",
   "mimetype": "text/x-python",
   "name": "python",
   "nbconvert_exporter": "python",
   "pygments_lexer": "ipython2",
   "version": "2.7.6"
  },
  "kernelspec": {
   "name": "python37364bitcd1670669f924636ab02dc9e0c1cdad1",
   "language": "python",
   "display_name": "Python 3.7.3 64-bit"
  },
  "pycharm": {
   "stem_cell": {
    "cell_type": "raw",
    "source": [
     "\n"
    ],
    "metadata": {
     "collapsed": false
    }
   }
  }
 },
 "nbformat": 4,
 "nbformat_minor": 0
}